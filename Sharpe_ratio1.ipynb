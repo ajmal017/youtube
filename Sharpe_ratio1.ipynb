{
 "cells": [
  {
   "cell_type": "markdown",
   "metadata": {},
   "source": [
    "# Quantitative Trading Toolbox (1) --- The Sharpe Ratio"
   ]
  },
  {
   "cell_type": "markdown",
   "metadata": {},
   "source": [
    "__To learn more, join us here:__\n",
    "#### [Quantitative Trading Like a Pro: Essential Python Course](https://www.udemy.com/course/python-for-traders-and-investors/?referralCode=D26278FF40FCB735C68C)\n",
    "\n",
    "#### [Back to the Futures: Futures Trading 101](https://www.udemy.com/course/back-to-the-futures/?referralCode=8C9EDF0AFCC33A25F7B0)\n",
    "\n",
    "__Coupon codes can be found [here](http://aaaquants.com/courses/):__ "
   ]
  },
  {
   "cell_type": "code",
   "execution_count": 1,
   "metadata": {
    "executionInfo": {
     "elapsed": 897,
     "status": "ok",
     "timestamp": 1602294268047,
     "user": {
      "displayName": "Qian Zhu",
      "photoUrl": "",
      "userId": "16328108229380201443"
     },
     "user_tz": -660
    },
    "id": "uohf1vEweu2E"
   },
   "outputs": [],
   "source": [
    "import numpy as np\n",
    "import pylab as plt"
   ]
  },
  {
   "cell_type": "code",
   "execution_count": 2,
   "metadata": {
    "executionInfo": {
     "elapsed": 894,
     "status": "ok",
     "timestamp": 1602294268048,
     "user": {
      "displayName": "Qian Zhu",
      "photoUrl": "",
      "userId": "16328108229380201443"
     },
     "user_tz": -660
    },
    "id": "DrU0qre_e7mr"
   },
   "outputs": [],
   "source": [
    "# This is the number of trading days in a year\n",
    "T = 256\n",
    "\n",
    "# Here we create a set of normally distributed random returns\n",
    "# and we are adding a small amount of randomness\n",
    "ret_a = np.ones(T)/T+np.random.randn(T)*0.001 \n",
    "\n",
    "# Creating a price series, strictly speaking we should use cumprod but\n",
    "# this is a bit better for illustration\n",
    "a = np.cumsum(ret_a)  \n",
    "\n",
    "# Creating a step-series\n",
    "ret_b = np.random.randn(T)*0.001\n",
    "ret_b[75] = -0.5\n",
    "ret_b[150] = 1.5\n",
    "b = np.cumsum(ret_b)"
   ]
  },
  {
   "cell_type": "code",
   "execution_count": 3,
   "metadata": {
    "colab": {
     "base_uri": "https://localhost:8080/",
     "height": 296
    },
    "executionInfo": {
     "elapsed": 1501,
     "status": "ok",
     "timestamp": 1602294268660,
     "user": {
      "displayName": "Qian Zhu",
      "photoUrl": "",
      "userId": "16328108229380201443"
     },
     "user_tz": -660
    },
    "id": "xKRhwGYnfKEz",
    "outputId": "4ac81ff3-8854-4804-ebcd-d75b15bc8fc2"
   },
   "outputs": [
    {
     "data": {
      "text/plain": [
       "Text(0,0.5,'PnL')"
      ]
     },
     "execution_count": 3,
     "metadata": {},
     "output_type": "execute_result"
    },
    {
     "data": {
      "image/png": "[encoded data removed]",
      "text/plain": [
       "<Figure size 432x288 with 1 Axes>"
      ]
     },
     "metadata": {
      "needs_background": "light"
     },
     "output_type": "display_data"
    }
   ],
   "source": [
    "# Plot Pnls\n",
    "plt.plot(a,label='pnl1')\n",
    "plt.plot(b,label='pnl2')\n",
    "plt.legend();\n",
    "plt.xlabel('time')\n",
    "plt.ylabel('PnL')"
   ]
  },
  {
   "cell_type": "markdown",
   "metadata": {},
   "source": [
    "### Risk-adjusted Returns"
   ]
  },
  {
   "cell_type": "code",
   "execution_count": 4,
   "metadata": {
    "colab": {
     "base_uri": "https://localhost:8080/",
     "height": 34
    },
    "executionInfo": {
     "elapsed": 1498,
     "status": "ok",
     "timestamp": 1602294268661,
     "user": {
      "displayName": "Qian Zhu",
      "photoUrl": "",
      "userId": "16328108229380201443"
     },
     "user_tz": -660
    },
    "id": "ddahIJmufNJ1",
    "outputId": "5cd5d654-bac7-4628-ffde-21438d8fd470"
   },
   "outputs": [
    {
     "data": {
      "text/plain": [
       "4.140094558643989"
      ]
     },
     "execution_count": 4,
     "metadata": {},
     "output_type": "execute_result"
    }
   ],
   "source": [
    "# Calculate risk-adjusted returns\n",
    "adj_ret_a = np.mean(ret_a)/np.std(ret_a)\n",
    "adj_ret_a"
   ]
  },
  {
   "cell_type": "code",
   "execution_count": 5,
   "metadata": {
    "colab": {
     "base_uri": "https://localhost:8080/",
     "height": 34
    },
    "executionInfo": {
     "elapsed": 1494,
     "status": "ok",
     "timestamp": 1602294268662,
     "user": {
      "displayName": "Qian Zhu",
      "photoUrl": "",
      "userId": "16328108229380201443"
     },
     "user_tz": -660
    },
    "id": "6vchUy4DgYsV",
    "outputId": "46b6610a-5c35-431a-fc24-d2ab6e9bb6a4"
   },
   "outputs": [
    {
     "data": {
      "text/plain": [
       "0.04039547045690596"
      ]
     },
     "execution_count": 5,
     "metadata": {},
     "output_type": "execute_result"
    }
   ],
   "source": [
    "# Calculate risk-adjusted returns\n",
    "adj_ret_b = np.mean(ret_b)/np.std(ret_b)\n",
    "adj_ret_b"
   ]
  },
  {
   "cell_type": "code",
   "execution_count": 6,
   "metadata": {
    "executionInfo": {
     "elapsed": 1488,
     "status": "ok",
     "timestamp": 1602294268662,
     "user": {
      "displayName": "Qian Zhu",
      "photoUrl": "",
      "userId": "16328108229380201443"
     },
     "user_tz": -660
    },
    "id": "sWuuiHbNgh_e"
   },
   "outputs": [],
   "source": [
    "# Create random PnL that finishes at 1\n",
    "np.random.seed(80)\n",
    "while True:\n",
    "  ret_c = np.random.randn(T)*0.03\n",
    "  if np.abs(sum(ret_c)-1)<0.01:\n",
    "    break"
   ]
  },
  {
   "cell_type": "code",
   "execution_count": 7,
   "metadata": {
    "colab": {
     "base_uri": "https://localhost:8080/",
     "height": 297
    },
    "executionInfo": {
     "elapsed": 2199,
     "status": "ok",
     "timestamp": 1602294269377,
     "user": {
      "displayName": "Qian Zhu",
      "photoUrl": "",
      "userId": "16328108229380201443"
     },
     "user_tz": -660
    },
    "id": "R1e_cohBhr1k",
    "outputId": "10d335ee-a42a-4464-e8e7-86df0248ced7"
   },
   "outputs": [
    {
     "data": {
      "text/plain": [
       "Text(0,0.5,'PnL')"
      ]
     },
     "execution_count": 7,
     "metadata": {},
     "output_type": "execute_result"
    },
    {
     "data": {
      "image/png": "[encoded data removed]",
      "text/plain": [
       "<Figure size 432x288 with 1 Axes>"
      ]
     },
     "metadata": {
      "needs_background": "light"
     },
     "output_type": "display_data"
    }
   ],
   "source": [
    "# Plot with random PnLs\n",
    "plt.plot(a,label='pnl1')\n",
    "plt.plot(b,label='pnl2')\n",
    "plt.plot(np.cumsum(ret_c),label='pnl3')\n",
    "plt.legend();\n",
    "plt.xlabel('time')\n",
    "plt.ylabel('PnL')"
   ]
  },
  {
   "cell_type": "code",
   "execution_count": 8,
   "metadata": {
    "colab": {
     "base_uri": "https://localhost:8080/",
     "height": 34
    },
    "executionInfo": {
     "elapsed": 2195,
     "status": "ok",
     "timestamp": 1602294269378,
     "user": {
      "displayName": "Qian Zhu",
      "photoUrl": "",
      "userId": "16328108229380201443"
     },
     "user_tz": -660
    },
    "id": "rojsDrdbiO1d",
    "outputId": "c28a71ee-fdf9-40cc-d946-28f516caf0b0"
   },
   "outputs": [
    {
     "data": {
      "text/plain": [
       "0.12912301070989737"
      ]
     },
     "execution_count": 8,
     "metadata": {},
     "output_type": "execute_result"
    }
   ],
   "source": [
    "# Calculate risk-adjusted returns of random PnL\n",
    "adj_ret_c = np.mean(ret_c)/np.std(ret_c)\n",
    "adj_ret_c"
   ]
  },
  {
   "cell_type": "code",
   "execution_count": 9,
   "metadata": {
    "colab": {
     "base_uri": "https://localhost:8080/",
     "height": 34
    },
    "executionInfo": {
     "elapsed": 2191,
     "status": "ok",
     "timestamp": 1602294269378,
     "user": {
      "displayName": "Qian Zhu",
      "photoUrl": "",
      "userId": "16328108229380201443"
     },
     "user_tz": -660
    },
    "id": "o4-sCraQjK35",
    "outputId": "82adac08-47df-422e-ed5e-9d7b0162e2ec"
   },
   "outputs": [
    {
     "data": {
      "text/plain": [
       "2.065968171358358"
      ]
     },
     "execution_count": 9,
     "metadata": {},
     "output_type": "execute_result"
    }
   ],
   "source": [
    "# Calculate Annualised Risk Adjusted Return\n",
    "ann_ret_c = adj_ret_c * np.sqrt(T)\n",
    "ann_ret_c"
   ]
  },
  {
   "cell_type": "code",
   "execution_count": 10,
   "metadata": {
    "colab": {
     "base_uri": "https://localhost:8080/",
     "height": 34
    },
    "executionInfo": {
     "elapsed": 2187,
     "status": "ok",
     "timestamp": 1602294269379,
     "user": {
      "displayName": "Qian Zhu",
      "photoUrl": "",
      "userId": "16328108229380201443"
     },
     "user_tz": -660
    },
    "id": "XcGxThSHLFCx",
    "outputId": "6177bf35-7928-4acd-e557-33327d590784"
   },
   "outputs": [
    {
     "data": {
      "text/plain": [
       "2.065968171358358"
      ]
     },
     "execution_count": 10,
     "metadata": {},
     "output_type": "execute_result"
    }
   ],
   "source": [
    "# Or \n",
    "ann_ret_c = adj_ret_c * 16\n",
    "ann_ret_c"
   ]
  },
  {
   "cell_type": "code",
   "execution_count": 11,
   "metadata": {
    "colab": {
     "base_uri": "https://localhost:8080/",
     "height": 34
    },
    "executionInfo": {
     "elapsed": 2181,
     "status": "ok",
     "timestamp": 1602294269379,
     "user": {
      "displayName": "Qian Zhu",
      "photoUrl": "",
      "userId": "16328108229380201443"
     },
     "user_tz": -660
    },
    "id": "9JDlNGYIkWbY",
    "outputId": "4e61ddfa-37c3-40fd-e293-6cc12b8bb1db"
   },
   "outputs": [
    {
     "data": {
      "text/plain": [
       "0.0038907860647559266"
      ]
     },
     "execution_count": 11,
     "metadata": {},
     "output_type": "execute_result"
    }
   ],
   "source": [
    "np.mean(ret_c)"
   ]
  },
  {
   "cell_type": "code",
   "execution_count": 12,
   "metadata": {
    "colab": {
     "base_uri": "https://localhost:8080/",
     "height": 34
    },
    "executionInfo": {
     "elapsed": 2175,
     "status": "ok",
     "timestamp": 1602294269379,
     "user": {
      "displayName": "Qian Zhu",
      "photoUrl": "",
      "userId": "16328108229380201443"
     },
     "user_tz": -660
    },
    "id": "w5dZ_CSDkolX",
    "outputId": "e7aad7c8-3b8f-4cf1-f363-ab445effaff3"
   },
   "outputs": [
    {
     "data": {
      "text/plain": [
       "1.9932298265015596"
      ]
     },
     "execution_count": 12,
     "metadata": {},
     "output_type": "execute_result"
    }
   ],
   "source": [
    "irate = 0.05\n",
    "Sharpe_c = np.mean(ret_c-(irate/365))/np.std(ret_c)*16\n",
    "Sharpe_c"
   ]
  },
  {
   "cell_type": "markdown",
   "metadata": {
    "id": "UZtwU-mfmjQJ"
   },
   "source": [
    "### Sharpe ratio for different time frames"
   ]
  },
  {
   "cell_type": "code",
   "execution_count": 13,
   "metadata": {
    "colab": {
     "base_uri": "https://localhost:8080/",
     "height": 282
    },
    "executionInfo": {
     "elapsed": 2172,
     "status": "ok",
     "timestamp": 1602294269380,
     "user": {
      "displayName": "Qian Zhu",
      "photoUrl": "",
      "userId": "16328108229380201443"
     },
     "user_tz": -660
    },
    "id": "3hvHlL3Hlrz5",
    "outputId": "059cddc2-4bc9-4d0d-8225-25edc90ea382"
   },
   "outputs": [
    {
     "data": {
      "text/plain": [
       "[<matplotlib.lines.Line2D at 0x11c5d66d8>]"
      ]
     },
     "execution_count": 13,
     "metadata": {},
     "output_type": "execute_result"
    },
    {
     "data": {
      "image/png": "[encoded data removed]",
      "text/plain": [
       "<Figure size 432x288 with 1 Axes>"
      ]
     },
     "metadata": {
      "needs_background": "light"
     },
     "output_type": "display_data"
    }
   ],
   "source": [
    "# Creating a series of minutely returns for one year\n",
    "np.random.seed(86)\n",
    "ret_d = np.random.randn(T*24*60)*0.01\n",
    "plt.plot(np.cumsum(ret_d)+50)"
   ]
  },
  {
   "cell_type": "code",
   "execution_count": 14,
   "metadata": {
    "colab": {
     "base_uri": "https://localhost:8080/",
     "height": 282
    },
    "executionInfo": {
     "elapsed": 2522,
     "status": "ok",
     "timestamp": 1602294269736,
     "user": {
      "displayName": "Qian Zhu",
      "photoUrl": "",
      "userId": "16328108229380201443"
     },
     "user_tz": -660
    },
    "id": "8IehP8qbmfWv",
    "outputId": "2760f0ce-6bf7-4674-93af-a4914405d9ea"
   },
   "outputs": [
    {
     "data": {
      "text/plain": [
       "[<matplotlib.lines.Line2D at 0x10c6a1a90>]"
      ]
     },
     "execution_count": 14,
     "metadata": {},
     "output_type": "execute_result"
    },
    {
     "data": {
      "image/png": "[encoded data removed]",
      "text/plain": [
       "<Figure size 432x288 with 1 Axes>"
      ]
     },
     "metadata": {
      "needs_background": "light"
     },
     "output_type": "display_data"
    }
   ],
   "source": [
    "# Create daily prices from minutely prices\n",
    "daily = np.cumsum(ret_d)[::24*60]\n",
    "plt.plot(np.arange(T)*24*60,daily,'o')\n",
    "plt.plot(np.cumsum(ret_d))"
   ]
  },
  {
   "cell_type": "code",
   "execution_count": 15,
   "metadata": {
    "colab": {
     "base_uri": "https://localhost:8080/",
     "height": 34
    },
    "executionInfo": {
     "elapsed": 2517,
     "status": "ok",
     "timestamp": 1602294269736,
     "user": {
      "displayName": "Qian Zhu",
      "photoUrl": "",
      "userId": "16328108229380201443"
     },
     "user_tz": -660
    },
    "id": "GxdDv-xEm4NP",
    "outputId": "0fb3cc35-9b00-4b88-ebc2-1eac002e57b9"
   },
   "outputs": [
    {
     "data": {
      "text/plain": [
       "0.35296875329764565"
      ]
     },
     "execution_count": 15,
     "metadata": {},
     "output_type": "execute_result"
    }
   ],
   "source": [
    "# Sharpe of the minutely series:\n",
    "np.mean(ret_d)/np.std(ret_d)*np.sqrt(T*24*60)"
   ]
  },
  {
   "cell_type": "code",
   "execution_count": 16,
   "metadata": {
    "colab": {
     "base_uri": "https://localhost:8080/",
     "height": 34
    },
    "executionInfo": {
     "elapsed": 2514,
     "status": "ok",
     "timestamp": 1602294269737,
     "user": {
      "displayName": "Qian Zhu",
      "photoUrl": "",
      "userId": "16328108229380201443"
     },
     "user_tz": -660
    },
    "id": "hcH17nMVnj5-",
    "outputId": "e0d2ce2a-6e0d-434c-e1f5-1fe236268e06"
   },
   "outputs": [
    {
     "data": {
      "text/plain": [
       "1.3176561057903977"
      ]
     },
     "execution_count": 16,
     "metadata": {},
     "output_type": "execute_result"
    }
   ],
   "source": [
    "# Sharpe of the daily series:\n",
    "np.mean(np.diff(daily)/daily[:-1])/np.std(np.diff(daily)/daily[:-1])*np.sqrt(T)"
   ]
  },
  {
   "cell_type": "code",
   "execution_count": null,
   "metadata": {
    "executionInfo": {
     "elapsed": 2509,
     "status": "ok",
     "timestamp": 1602294269737,
     "user": {
      "displayName": "Qian Zhu",
      "photoUrl": "",
      "userId": "16328108229380201443"
     },
     "user_tz": -660
    },
    "id": "fsIHpGFA2uMw"
   },
   "outputs": [],
   "source": []
  }
 ],
 "metadata": {
  "colab": {
   "name": "Sharpe_ratio.ipynb",
   "provenance": []
  },
  "kernelspec": {
   "display_name": "Python 3",
   "language": "python",
   "name": "python3"
  },
  "language_info": {
   "codemirror_mode": {
    "name": "ipython",
    "version": 3
   },
   "file_extension": ".py",
   "mimetype": "text/x-python",
   "name": "python",
   "nbconvert_exporter": "python",
   "pygments_lexer": "ipython3",
   "version": "3.6.8"
  }
 },
 "nbformat": 4,
 "nbformat_minor": 1
}
