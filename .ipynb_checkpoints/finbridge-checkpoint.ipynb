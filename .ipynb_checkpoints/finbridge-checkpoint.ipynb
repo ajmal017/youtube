{
 "cells": [
  {
   "cell_type": "markdown",
   "metadata": {
    "slideshow": {
     "slide_type": "slide"
    }
   },
   "source": [
    "# Parameter Optimisation With TA-lib\n",
    "## Part 1"
   ]
  },
  {
   "cell_type": "code",
   "execution_count": null,
   "metadata": {
    "slideshow": {
     "slide_type": "-"
    }
   },
   "outputs": [],
   "source": [
    "import numpy as np\n",
    "import matplotlib.pyplot as plt\n",
    "import talib\n",
    "import yfinance as yf\n",
    "from mpl_toolkits.mplot3d import Axes3D\n",
    "from scipy.interpolate import griddata\n",
    "from scipy.spatial import ConvexHull, convex_hull_plot_2d"
   ]
  },
  {
   "cell_type": "code",
   "execution_count": null,
   "metadata": {},
   "outputs": [],
   "source": [
    "stocks = ['MSFT','AMZN','XOM','ORCL','IBM','AAPL','ABT','GS','SPY','BRK']"
   ]
  },
  {
   "cell_type": "code",
   "execution_count": null,
   "metadata": {},
   "outputs": [],
   "source": [
    "data = yf.download(tickers = \" \".join(stocks),\n",
    "        period = \"20y\",\n",
    "        #end = \"2020-07-05\",\n",
    "        interval = \"1d\",\n",
    "        group_by = 'ticker',\n",
    "        auto_adjust = False,\n",
    "        prepost = False,\n",
    "        threads = True,\n",
    "        proxy = None\n",
    "    )\n"
   ]
  },
  {
   "cell_type": "code",
   "execution_count": null,
   "metadata": {},
   "outputs": [],
   "source": [
    "#data['AMZN']['Adj Close']"
   ]
  },
  {
   "cell_type": "code",
   "execution_count": null,
   "metadata": {
    "scrolled": true
   },
   "outputs": [],
   "source": [
    "def backtest(sym,p1,p2,polarity = 1):\n",
    "    \"\"\"\n",
    "    Backtester for MA-crossover\n",
    "    Inputs:\n",
    "        sym: stock symbol\n",
    "        p: parameters\n",
    "        \n",
    "    Output:\n",
    "        unrlzd: unrealizd PnL\n",
    "    \"\"\"\n",
    "    \n",
    "    d = data[sym]['Adj Close']\n",
    "    sma1 = talib.SMA(np.asarray(d),min([p1,p2]))\n",
    "    sma2 = talib.SMA(np.asarray(d),max([p1,p2]))\n",
    "    sma_diff = sma1-sma2\n",
    "    \n",
    "    unrlzd = []\n",
    "    side = 0\n",
    "    for i in range(500,len(d)):\n",
    "        unrlzd.append((d[i]-d[i-1])/d[i-1]*side)\n",
    "        if np.sign(sma_diff[i])!=np.sign(sma_diff[i-1]):\n",
    "            side = np.sign(sma_diff[i])*polarity\n",
    "\n",
    "    return unrlzd"
   ]
  },
  {
   "cell_type": "code",
   "execution_count": null,
   "metadata": {},
   "outputs": [],
   "source": [
    "pnl = backtest('ORCL',20,60, polarity=-1)\n",
    "plt.plot(np.cumsum(pnl))"
   ]
  },
  {
   "cell_type": "code",
   "execution_count": null,
   "metadata": {
    "slideshow": {
     "slide_type": "slide"
    }
   },
   "outputs": [],
   "source": [
    "for i in range(10):\n",
    "    for k in range(10):\n",
    "        plt.plot(i,k,'bo')\n",
    "        \n",
    "plt.plot(np.random.randint(0,100,100),np.random.randint(0,100,100),'ro')\n",
    "plt.xlabel('Lookback 1')\n",
    "plt.ylabel('Lookback 2')"
   ]
  },
  {
   "cell_type": "code",
   "execution_count": null,
   "metadata": {},
   "outputs": [],
   "source": [
    "def sweep(r,stocks,N=100,res=[],unall=[]):\n",
    "    \"\"\"\n",
    "    Parameters sweep for backtester.\n",
    "    \n",
    "    Inputs: \n",
    "        r: Nx2 array of parameters\n",
    "        stocks: list of stock symbols\n",
    "        N: number of samples\n",
    "        \n",
    "    Outputs:\n",
    "        res: NxM matrix of N simulations with parameters and result\n",
    "    \"\"\"\n",
    "    \n",
    "    for i in range(N):\n",
    "        if r[i,0]==r[i,1]: continue\n",
    "        all_pnls = []\n",
    "        for stock in stocks:    \n",
    "            unrlzd = backtest(stock,int(r[i,0]),int(r[i,1]),polarity = -1)\n",
    "            all_pnls.append(unrlzd)\n",
    "\n",
    "        portf_ret = np.mean(np.array(all_pnls),axis=0)\n",
    "        S = np.mean(portf_ret)/np.std(portf_ret)*16\n",
    "\n",
    "        print(i,r[i,:],S)\n",
    "        res.append([r[i,0],r[i,1],S])\n",
    "        unall.append(portf_ret)\n",
    "        \n",
    "    return res, unall, portf_ret"
   ]
  },
  {
   "cell_type": "code",
   "execution_count": null,
   "metadata": {},
   "outputs": [],
   "source": [
    "stocks[3:4]"
   ]
  },
  {
   "cell_type": "code",
   "execution_count": null,
   "metadata": {
    "scrolled": true
   },
   "outputs": [],
   "source": [
    "'''Run the parameter sweep'''\n",
    "r = (np.random.randint(2,500,(1000,2)))\n",
    "res, rets, portf_ret = sweep(r,stocks[3:4],1000,[],[])"
   ]
  },
  {
   "cell_type": "code",
   "execution_count": null,
   "metadata": {},
   "outputs": [],
   "source": [
    "def linreg(x,y):\n",
    "    m =  np.polyfit(x,y,1)\n",
    "    xx = np.linspace(min(x),max(x),100)\n",
    "    yy = np.polyval(m,xx)\n",
    "    return xx,yy,m\n",
    "\n",
    "def oos_testing(rets,cutoff,metric,plot_points=True):\n",
    "    M_is = []; M_os = []\n",
    "    for ret in rets:\n",
    "        M_is.append(metric(ret,0,cutoff))\n",
    "        M_os.append(metric(ret,cutoff,-1))\n",
    "    #\n",
    "        \n",
    "    xx,yy,m = linreg(M_is,M_os)\n",
    "    plt.plot(xx,yy,label=cutoff)\n",
    "    if plot_points:\n",
    "        plt.plot(M_is,M_os,'bo')\n",
    "        plt.xlabel('In-Sample Sharpe')\n",
    "        plt.ylabel('Out-of-Sample Sharpe')\n",
    "        plt.title('y = %.2fx + %.2f'%(m[0],m[1]))\n",
    "        plt.grid()\n",
    "        \n",
    "Sharpe = lambda ret,c1,c2: np.mean(ret[c1:c2])/np.std(portf_ret[c1:c2])*16\n",
    "oos_testing(rets,3000,Sharpe)\n",
    "plt.show()\n",
    "\n",
    "for coff in range(2000,4000,200):\n",
    "    oos_testing(rets,coff,Sharpe,plot_points=False)\n",
    "    \n",
    "plt.title('IS/OOS correlation')\n",
    "plt.legend()\n",
    "plt.show()\n",
    "# good: XOM, ORCL\n",
    "# bad: MSFT, AMZN, IBM"
   ]
  },
  {
   "cell_type": "markdown",
   "metadata": {},
   "source": [
    "## Part 2\n",
    "### Plotting the response surface"
   ]
  },
  {
   "cell_type": "code",
   "execution_count": null,
   "metadata": {},
   "outputs": [],
   "source": [
    "def plotter(res):\n",
    "    '''\n",
    "    Plots the results of the parameter sweep\n",
    "    in 3D, scatter and contour plots.\n",
    "    inputs:\n",
    "        res: NxM results matrix\n",
    "    '''\n",
    "    \n",
    "    x = np.array(res)[:,0]\n",
    "    y = np.array(res)[:,1]\n",
    "    z = np.array(res)[:,2]\n",
    "    \n",
    "    fig = plt.figure()\n",
    "    #ax = fig.add_subplot(111, projection='3d')\n",
    "    ax = Axes3D(fig)\n",
    "    ax.scatter(x, y, z, c=z)\n",
    "    plt.show()\n",
    "\n",
    "    plt.scatter(x, y, c=z, s=10)\n",
    "    plt.show()\n",
    "    \n",
    "    N = 300\n",
    "    xi,yi = np.meshgrid(np.linspace(min(x),max(x),N),np.linspace(min(y),max(y),N))\n",
    "    zi = griddata((x,y),z,(xi,yi),method='linear')\n",
    "    plt.contourf(xi,yi,zi,20)\n",
    "    plt.xlabel('parameter 1')\n",
    "    plt.ylabel('parameter 2')\n",
    "    \n",
    "    return x,y,z\n",
    "    \n",
    "x,y,z = plotter(res)"
   ]
  },
  {
   "cell_type": "markdown",
   "metadata": {},
   "source": [
    "### Finding the best parameter sets"
   ]
  },
  {
   "cell_type": "code",
   "execution_count": null,
   "metadata": {},
   "outputs": [],
   "source": [
    "import copy"
   ]
  },
  {
   "cell_type": "code",
   "execution_count": null,
   "metadata": {},
   "outputs": [],
   "source": [
    "def find_best_corr(x,y,z,rets,N_best,N_samples,cutoff):\n",
    "    idx = np.argsort(z)[-N_best:]\n",
    "    mat = np.corrcoef(np.array(rets)[idx,:cutoff])\n",
    "    mat_sq = mat**2\n",
    "    new_mat = copy.copy(mat_sq)\n",
    "    new_idx = idx\n",
    "    while new_mat.shape[0]>N_samples:\n",
    "        col_sums = np.sum(new_mat,axis=0)\n",
    "        to_del = np.argsort(col_sums)[-1]\n",
    "        new_mat = np.delete(new_mat,to_del,0)\n",
    "        new_mat = np.delete(new_mat,to_del,1)\n",
    "        new_idx = np.delete(new_idx,to_del,0)\n",
    "    return new_mat,new_idx,x[new_idx],y[new_idx]\n",
    "    \n",
    "cutoff = -2800\n",
    "new_mat, new_idx, xnew, ynew = find_best_corr(x,y,z,rets,40,5,cutoff)"
   ]
  },
  {
   "cell_type": "code",
   "execution_count": null,
   "metadata": {},
   "outputs": [],
   "source": [
    "for i in new_idx:\n",
    "    S = np.mean(rets[i])/np.std(rets[i])*16\n",
    "    plt.plot(data.index[-len(rets[i]):],np.cumsum(rets[i]),'--',label=S)\n",
    "       \n",
    "portf = np.mean(np.array(rets)[new_idx],axis=0)\n",
    "S_port = np.mean(portf)/np.std(portf)*16\n",
    "S_oos = np.mean(portf[-cutoff:])/np.std(portf[-cutoff:])*16\n",
    "combined = np.cumsum(np.mean(np.array(rets)[new_idx],axis=0))\n",
    "plt.plot(data.index[-len(combined):],combined,lw=5,label=S_port)\n",
    "plt.plot([data.index[-len(combined):][-cutoff]]*2,[0,4],'--')\n",
    "plt.legend()\n",
    "plt.title(\"Out-of-Sample Sharpe: %.3f\"%S_oos)\n",
    "plt.grid()"
   ]
  },
  {
   "cell_type": "code",
   "execution_count": null,
   "metadata": {},
   "outputs": [],
   "source": []
  }
 ],
 "metadata": {
  "kernelspec": {
   "display_name": "Python 3",
   "language": "python",
   "name": "python3"
  },
  "language_info": {
   "codemirror_mode": {
    "name": "ipython",
    "version": 3
   },
   "file_extension": ".py",
   "mimetype": "text/x-python",
   "name": "python",
   "nbconvert_exporter": "python",
   "pygments_lexer": "ipython3",
   "version": "3.6.1"
  }
 },
 "nbformat": 4,
 "nbformat_minor": 2
}
